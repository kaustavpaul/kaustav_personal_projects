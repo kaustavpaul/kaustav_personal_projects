{
 "cells": [
  {
   "cell_type": "code",
   "execution_count": null,
   "metadata": {},
   "outputs": [],
   "source": [
    "#!pip install teradatasql"
   ]
  },
  {
   "cell_type": "markdown",
   "metadata": {},
   "source": [
    "## import libraries"
   ]
  },
  {
   "cell_type": "code",
   "execution_count": null,
   "metadata": {},
   "outputs": [],
   "source": [
    "import teradatasql\n",
    "import pandas as pd\n",
    "import numpy as np\n",
    "from datetime import datetime, date"
   ]
  },
  {
   "cell_type": "markdown",
   "metadata": {},
   "source": [
    "## Select data from teraprod"
   ]
  },
  {
   "cell_type": "markdown",
   "metadata": {},
   "source": [
    "## If the passwords need to be abstract use the following\n",
    "\n",
    "    import getpass\n",
    "\n",
    "    certpass = input(\"Teracert password\")\n",
    "    OR\n",
    "    certpass = getpass.getpass()\n",
    "\n",
    "    prodpass = input(\"Teraprod password\")\n",
    "    OR\n",
    "    prodpass = getpass.getpass()\n"
   ]
  },
  {
   "cell_type": "markdown",
   "metadata": {},
   "source": [
    "variable declarations"
   ]
  },
  {
   "cell_type": "code",
   "execution_count": null,
   "metadata": {},
   "outputs": [],
   "source": [
    "certpass = '<certification_user>'\n",
    "prodpass = '<certification_password>'\n",
    "\n",
    "table1 = \"<first_table_name>\"\n",
    "filter1 = \"<table_filters>\"\n",
    "\n",
    "table2 = \"<second_table_name>\"\n",
    "filter2 = \"<table_filters>\""
   ]
  },
  {
   "cell_type": "code",
   "execution_count": null,
   "metadata": {},
   "outputs": [],
   "source": [
    "table, filter = table1, filter1"
   ]
  },
  {
   "cell_type": "markdown",
   "metadata": {},
   "source": [
    "## connect to teraprod and get data into dataframe"
   ]
  },
  {
   "cell_type": "code",
   "execution_count": null,
   "metadata": {},
   "outputs": [],
   "source": [
    "query = f\"select * from {table} {filter}\"\n",
    "print(query)\n",
    "\n",
    "with teradatasql.connect(host='teraprod.heb.com', user='etl', password=f'{prodpass}') as connect:\n",
    "    recdf = pd.read_sql(query, connect)\n",
    "    \n",
    "print(recdf.dtypes)\n",
    "\n",
    "recdf"
   ]
  },
  {
   "cell_type": "code",
   "execution_count": null,
   "metadata": {},
   "outputs": [],
   "source": [
    "recdf = recdf.dropna()\n",
    "\n",
    "print(recdf.dtypes)\n",
    "\n",
    "recdf"
   ]
  },
  {
   "cell_type": "markdown",
   "metadata": {},
   "source": [
    "## convert records into list and find the column headers"
   ]
  },
  {
   "cell_type": "code",
   "execution_count": null,
   "metadata": {},
   "outputs": [],
   "source": [
    "reclist = recdf.values.tolist()\n",
    "headlist = recdf.columns.tolist()\n",
    "\n",
    "print(headlist)\n",
    "reclist"
   ]
  },
  {
   "cell_type": "markdown",
   "metadata": {},
   "source": [
    "## Insert data into teracert"
   ]
  },
  {
   "cell_type": "code",
   "execution_count": null,
   "metadata": {},
   "outputs": [],
   "source": [
    "insarglist = ['?']*(len(headlist))\n",
    "insargstring = \",\".join(insarglist)\n",
    "\n",
    "print(insarglist,insargstring)\n",
    "\n",
    "with teradatasql.connect(host='teracert.heb.com', user='etl', password=f'{certpass}', encryptdata=\"true\") as connect:\n",
    "    with connect.cursor () as cur:\n",
    "        cur.execute(\"{fn teradata_nativesql}{fn teradata_autocommit_on}\")\n",
    "        cur.execute(f\"delete {table} all\")\n",
    "        cur.executemany(f\"insert into {table} ({insargstring})\", reclist)\n",
    "    #    cur.execute (\"select top 10 * from mkt_db.ob_netspend_rfcd\")\n",
    "    #    [ print (row) for row in cur.fetchall () ]\n",
    "    \n",
    "    \n"
   ]
  },
  {
   "cell_type": "markdown",
   "metadata": {},
   "source": [
    "## validate the insertion of records"
   ]
  },
  {
   "cell_type": "code",
   "execution_count": null,
   "metadata": {},
   "outputs": [],
   "source": [
    "query = f\"select top 10 * from {table}\"\n",
    "with teradatasql.connect(host='teracert.heb.com', user='etl', password=f'{certpass}') as connect:\n",
    "    resultdf = pd.read_sql(query, connect)\n",
    "    \n",
    "resultdf"
   ]
  }
 ],
 "metadata": {
  "interpreter": {
   "hash": "f76bbef8bf8fe646e785a9c059b65a2c7080595cec847656a8df4b21425f6941"
  },
  "kernelspec": {
   "display_name": "Python 3.8.12",
   "language": "python",
   "name": "python3"
  },
  "language_info": {
   "codemirror_mode": {
    "name": "ipython",
    "version": 3
   },
   "file_extension": ".py",
   "mimetype": "text/x-python",
   "name": "python",
   "nbconvert_exporter": "python",
   "pygments_lexer": "ipython3",
   "version": "3.8.12"
  },
  "orig_nbformat": 4
 },
 "nbformat": 4,
 "nbformat_minor": 2
}
