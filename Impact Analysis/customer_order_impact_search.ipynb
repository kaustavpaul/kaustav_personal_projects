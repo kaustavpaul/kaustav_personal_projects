{
 "cells": [
  {
   "cell_type": "markdown",
   "metadata": {},
   "source": [
    "## Import git project to local and declare details"
   ]
  },
  {
   "cell_type": "code",
   "execution_count": null,
   "metadata": {},
   "outputs": [],
   "source": [
    "import os"
   ]
  },
  {
   "cell_type": "code",
   "execution_count": null,
   "metadata": {},
   "outputs": [],
   "source": [
    "directory_name = '<local_directory_name>'\n",
    "\n",
    "dir = os.listdir(directory_name)\n",
    "dir"
   ]
  },
  {
   "cell_type": "code",
   "execution_count": null,
   "metadata": {},
   "outputs": [],
   "source": [
    "table_ref = [\"<list_of_table_name_variants>\"]\n",
    "\n",
    "col_remove = [\"<list_of_columns_slated_for_removal>\"]\n",
    "\n",
    "col_update = [\"<list_of_columns_slated_for_update>\"]"
   ]
  },
  {
   "cell_type": "markdown",
   "metadata": {},
   "source": [
    "## Directory iteration and print files"
   ]
  },
  {
   "cell_type": "code",
   "execution_count": null,
   "metadata": {},
   "outputs": [],
   "source": [
    "import os\n",
    "for dirpath, dirs, files in os.walk(directory_name):\n",
    "  if dirpath.find(\"/.git\") == -1:\n",
    "      print('Looking inside directry',dirpath)    \n",
    "  for filename in files:     \n",
    "    fname = os.path.join(dirpath,filename)\n",
    "    if fname.endswith('.py') or fname.endswith(\".sql\"):\n",
    "      print('checking started for', fname)\n",
    "      f = open(fname, 'r', encoding=\"utf8\")\n",
    "      for ref in table_ref:\n",
    "            f.seek(0)\n",
    "            searchtext = f.read()\n",
    "            if ref in searchtext.lower():\n",
    "                  found = True\n",
    "                  print('  * Found table reference: ' + ref)\n",
    "      for col in col_remove:\n",
    "            f.seek(0)\n",
    "            searchtext = f.read()\n",
    "            if col in searchtext.lower():\n",
    "                  found = True\n",
    "                  print('  * Found column from removal list: ' + col)\n",
    "      for col in col_update:\n",
    "            f.seek(0)\n",
    "            searchtext = f.read()\n",
    "            if col in searchtext.lower():\n",
    "                  found = True\n",
    "                  print('  * Found column from update list: ' + col)\n",
    "      print('checking completed for', fname)\n",
    "      f.close() "
   ]
  }
 ],
 "metadata": {
  "interpreter": {
   "hash": "f76bbef8bf8fe646e785a9c059b65a2c7080595cec847656a8df4b21425f6941"
  },
  "kernelspec": {
   "display_name": "Python 3.8.12",
   "language": "python",
   "name": "python3"
  },
  "language_info": {
   "codemirror_mode": {
    "name": "ipython",
    "version": 3
   },
   "file_extension": ".py",
   "mimetype": "text/x-python",
   "name": "python",
   "nbconvert_exporter": "python",
   "pygments_lexer": "ipython3",
   "version": "3.8.12"
  },
  "orig_nbformat": 4
 },
 "nbformat": 4,
 "nbformat_minor": 2
}
