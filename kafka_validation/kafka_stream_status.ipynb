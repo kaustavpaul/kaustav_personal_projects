{
 "cells": [
  {
   "cell_type": "code",
   "execution_count": null,
   "metadata": {},
   "outputs": [],
   "source": [
    "import os\n",
    "import json\n",
    "import requests\n",
    "from bs4 import BeautifulSoup\n",
    "import pandas as pd"
   ]
  },
  {
   "cell_type": "markdown",
   "metadata": {},
   "source": [
    "## List of Kafka streams\n",
    "based on <confluence link>"
   ]
  },
  {
   "cell_type": "markdown",
   "metadata": {},
   "source": [
    "### Get Confluence content"
   ]
  },
  {
   "cell_type": "code",
   "execution_count": null,
   "metadata": {},
   "outputs": [],
   "source": [
    "contentApiUrl = '/rest/api/content'\n",
    "# Change these based on your instance\n",
    "confluenceBaseUrl = '<confluence_base_url>'\n",
    "pageId = '<page_id>'\n",
    "user = '<confluence_username>'\n",
    "key = '<api_key>'"
   ]
  },
  {
   "cell_type": "code",
   "execution_count": null,
   "metadata": {},
   "outputs": [],
   "source": [
    "requestUrl = (f'<kafka_connector_request_url>')\n",
    "print(requestUrl)\n",
    "\n",
    "requestResponse = requests.get(requestUrl, auth=(user, key))\n",
    "requestResponsejson = requestResponse.json()\n",
    "\n",
    "content = requestResponsejson.get(\"body\").get(\"storage\").get(\"value\")\n",
    "\n",
    "tables_raw = [[[cell.text for cell in row(\"th\") + row(\"td\")]\n",
    "                    for row in table(\"tr\")]\n",
    "                    for table in BeautifulSoup(content, features=\"lxml\")(\"table\")]\n",
    "\n",
    "print(tables_raw)\n",
    " \n",
    "# Create the pandas DataFrame\n",
    "streamdf = pd.DataFrame(tables_raw[0][1:], columns = tables_raw[0][0])\n",
    "streamdf.head(100)"
   ]
  },
  {
   "cell_type": "code",
   "execution_count": null,
   "metadata": {},
   "outputs": [],
   "source": [
    "base_url = \"<>\"\n",
    "\n",
    "sourcelist = streamdf['Source Connector'].tolist()\n",
    "sourcelist = list(filter(None, sourcelist))\n",
    "print(\"list of source connectors:\",sourcelist)\n",
    "print(\"number of source connectors:\",len(sourcelist))\n",
    "\n",
    "sinklist = streamdf['Sink Connector'].tolist()\n",
    "sinklist = list(filter(None, sinklist))\n",
    "print(\"list of sink connectors:\",sinklist)\n",
    "print(\"number of sink connectors:\",len(sinklist))"
   ]
  },
  {
   "cell_type": "markdown",
   "metadata": {},
   "source": [
    "## Kafka status check function"
   ]
  },
  {
   "cell_type": "code",
   "execution_count": null,
   "metadata": {},
   "outputs": [],
   "source": [
    "def kafka_status(stream):     \n",
    "    status_url = (f\"{base_url}/{stream}/status\")\n",
    "    print(status_url)\n",
    "    \n",
    "    response = requests.get(status_url)\n",
    "    if response.status_code == 200:\n",
    "        print(\"Response Success\")\n",
    "    else:\n",
    "        print(\"Response Failure\")\n",
    "        exit()\n",
    "    \n",
    "    status = BeautifulSoup(response.content, 'html.parser')\n",
    "    status = status.prettify()\n",
    "    status_json = json.loads(status)\n",
    "    print(status_json)\n",
    "    \n",
    "    fail_ind = 0\n",
    "    \n",
    "    connector = status_json[\"connector\"]\n",
    "    print(\"connector details:\",connector)\n",
    "    connector_status = connector.get('state')\n",
    "    print(\"connector\", connector_status)    \n",
    "    if connector_status != \"RUNNING\":\n",
    "        fail_ind = fail_ind + 1\n",
    "        \n",
    "    tasks = status_json[\"tasks\"]\n",
    "    print(\"task details:\",tasks)\n",
    "    print(\"number of tasks\",len(tasks))\n",
    "    for i in range(len(tasks)):\n",
    "        task_status = tasks[i].get('state')\n",
    "        if task_status != \"RUNNING\":\n",
    "            fail_ind = fail_ind + 1\n",
    "        print(\"task id\",i,task_status)\n",
    "    \n",
    "    return (\"failure indicator\", fail_ind)  \n"
   ]
  },
  {
   "cell_type": "markdown",
   "metadata": {},
   "source": [
    "## Kafka restart function"
   ]
  },
  {
   "cell_type": "code",
   "execution_count": null,
   "metadata": {},
   "outputs": [],
   "source": [
    "def kafka_restart(stream):\n",
    "    status_url = (f\"{base_url}/{stream}/status\")\n",
    "    print(status_url)\n",
    "    \n",
    "    response = requests.get(status_url)\n",
    "    if response.status_code == 200:\n",
    "        print(\"Response Success\")\n",
    "    else:\n",
    "        print(\"Response Failure\")\n",
    "        exit()\n",
    "    \n",
    "    status = BeautifulSoup(response.content, 'html.parser')\n",
    "    status = status.prettify()\n",
    "    status_json = json.loads(status)\n",
    "    \n",
    "    connector = status_json[\"connector\"]\n",
    "    connector_status = connector.get('state')      \n",
    "    if (connector_status != \"RUNNING\"):\n",
    "        connector_restart_url = (f\"{base_url}/{stream}/restart?includeTasks=true&onlyFailed=true\")\n",
    "        connector_restart = requests.post(connector_restart_url)\n",
    "        print(connector_restart)\n",
    "    else:\n",
    "        print(\"connector\",connector_status)\n",
    "    \n",
    "    tasks = status_json[\"tasks\"]      \n",
    "    for i in range(len(tasks)):\n",
    "        task_status = tasks[i].get('state')\n",
    "        if (task_status != \"RUNNING\"):\n",
    "            print(\"task id\",i,task_status, \"and needs restart\")   \n",
    "            task_restart_url = (f\"{base_url}/{stream}/tasks/{i}/restart\")\n",
    "            print(task_restart_url)\n",
    "            task_restart = requests.post(task_restart_url)\n",
    "            print(task_restart.status_code)\n",
    "        else:\n",
    "            print(\"task id\",i,task_status)\n"
   ]
  },
  {
   "cell_type": "markdown",
   "metadata": {},
   "source": [
    "## Source stream validation"
   ]
  },
  {
   "cell_type": "code",
   "execution_count": null,
   "metadata": {},
   "outputs": [],
   "source": [
    "for i in range(len(sourcelist)):\n",
    "    stream = sourcelist[i]\n",
    "    print(f\"############### {stream} validation started ###############\")\n",
    "    status_op = kafka_status(stream)\n",
    "    print(status_op)\n",
    "    fail_ind = status_op[-1]\n",
    "\n",
    "    if fail_ind != 0:\n",
    "        kafka_restart(stream)\n",
    "        kafka_status(stream)\n",
    "        print(\"failed connectors / tasks restarted for the stream\", stream)\n",
    "        print(f\"############### {stream} validation complete ###############\")\n",
    "    else:\n",
    "        print(stream, \"stream is healthy\")\n",
    "        print(f\"############### {stream} validation complete ###############\")"
   ]
  },
  {
   "cell_type": "markdown",
   "metadata": {},
   "source": [
    "## Sink stream validation"
   ]
  },
  {
   "cell_type": "code",
   "execution_count": null,
   "metadata": {},
   "outputs": [],
   "source": [
    "for i in range(len(sinklist)):\n",
    "    stream = sinklist[i]\n",
    "    print(f\"############### {stream} validation started ###############\")\n",
    "    status_op = kafka_status(stream)\n",
    "    print(status_op)\n",
    "    fail_ind = status_op[-1]\n",
    "\n",
    "    if fail_ind != 0:\n",
    "        kafka_restart(stream)\n",
    "        kafka_status(stream)\n",
    "        print(\"failed connectors / tasks restarted for the stream\", stream)\n",
    "        print(f\"############### {stream} validation complete ###############\")\n",
    "    else:\n",
    "        print(stream, \"stream is healthy\")\n",
    "        print(f\"############### {stream} validation complete ###############\")"
   ]
  }
 ],
 "metadata": {
  "interpreter": {
   "hash": "5ba78420e9dbca5f5d5b8b3be148b9e3f4eb21977703dd748a6c08da0d892f3a"
  },
  "kernelspec": {
   "display_name": "Python 3.8.8 ('base')",
   "language": "python",
   "name": "python3"
  },
  "language_info": {
   "codemirror_mode": {
    "name": "ipython",
    "version": 3
   },
   "file_extension": ".py",
   "mimetype": "text/x-python",
   "name": "python",
   "nbconvert_exporter": "python",
   "pygments_lexer": "ipython3",
   "version": "3.8.8"
  },
  "orig_nbformat": 4
 },
 "nbformat": 4,
 "nbformat_minor": 2
}
